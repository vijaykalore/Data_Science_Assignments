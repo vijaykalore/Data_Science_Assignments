{
 "cells": [
  {
   "cell_type": "markdown",
   "id": "95966308-007e-4c26-8023-f2fb88b63eed",
   "metadata": {},
   "source": [
    "## STATE THE HYPOTHESIS"
   ]
  },
  {
   "cell_type": "markdown",
   "id": "43abc383-2d61-4a9d-8753-542ab16b994d",
   "metadata": {},
   "source": [
    "Null Hypothesis (H₀): This is the hypothesis that there is no effect or no difference. It's the assumption that any kind of difference or significance you see in a set of data is due to chance.\n",
    "\n",
    "Alternative Hypothesis (H₁): This is what you want to prove. It's the hypothesis that there is an effect or a difference."
   ]
  },
  {
   "cell_type": "markdown",
   "id": "449864f3-f333-471c-9bfc-f0f3979c695d",
   "metadata": {},
   "source": [
    "chisquare statistics = Χ2 = ∑ (Oi – Ei)2/Ei o = observed values E= expected values"
   ]
  },
  {
   "cell_type": "markdown",
   "id": "9ed98472-ef17-4bad-b605-ac8bf9c755fc",
   "metadata": {},
   "source": [
    "expected frequency = total no of observation * total no of observations for the column/total no of observations"
   ]
  },
  {
   "cell_type": "markdown",
   "id": "f2793b45-d6ea-4926-bd53-a94625fe0b59",
   "metadata": {},
   "source": [
    "## chisquare statistics"
   ]
  },
  {
   "cell_type": "markdown",
   "id": "9b43e2e0-d403-4628-8ba6-17e703ec243c",
   "metadata": {},
   "source": [
    "Satisfaction\tSmart Thermostat\tSmart Light\t    Total\n",
    "Very Satisfied      \t50\t                70\t     120\n",
    "Satisfied\t            80\t               100\t     180\n",
    "Neutral\t                60 \t                90\t     150\n",
    "Unsatisfied\t            30\t                50\t      80\n",
    "Very Unsatisfied\t    20\t                50\t      70\n",
    "Total\t               240\t               360\t     600\n",
    "\n"
   ]
  },
  {
   "cell_type": "markdown",
   "id": "0dec1cac-4bcb-4707-ae54-a5580e1c90b1",
   "metadata": {},
   "source": [
    "Satisfaction Smart Thermostat Smart Light Total Very Satisfied 10 14 120\n",
    "Satisfied 24 30 180 \n",
    "Neutral 15 22.5 150 \n",
    "Unsatisfied 4 6.66 80\n",
    "Very Unsatisfied 2.33 5.833 70\n",
    "Total 240 360 600"
   ]
  },
  {
   "cell_type": "markdown",
   "id": "eecce88f-ed26-45e0-869b-8eff022718fd",
   "metadata": {},
   "source": [
    "Χ2 = ∑ (Oi – Ei)2/Ei in subgroup of very satisfied and smart thermostat= 160 in subgroup of satisfied and smart thermostat=130.66 in subgroup of neutraland smart thermostat=15 in subgroup of unsatisfied and smart thermostat=169 in subgroup of very unsatisfied and smart thermostat=134.003 in subgroup of very satisfied and smart light=224 in subgroup of satisfied and smart light=163.33 in subgroup of neutral and smart light= 202.5 in subgroup of unsatisfied and smart light=282.03 in subgroup of very unsatisfied and smart light= 334.42\n",
    "\n",
    "then take sum = 1814.943=test statistics"
   ]
  },
  {
   "cell_type": "markdown",
   "id": "19fe50b7-eca3-49bf-b8cb-59704c2ae72e",
   "metadata": {},
   "source": [
    "\n",
    "## Determining Critical Value"
   ]
  },
  {
   "cell_type": "code",
   "execution_count": 17,
   "id": "db73a3bf-a191-43c4-94f4-5717c7affccb",
   "metadata": {},
   "outputs": [
    {
     "name": "stdout",
     "output_type": "stream",
     "text": [
      "Critical Value: 9.487729036781154\n"
     ]
    }
   ],
   "source": [
    "# given alpha =0.05,DEGRE OF FREEDOM= 4\n",
    "import scipy.stats as stats\n",
    "\n",
    "# For a chi-square distribution\n",
    "alpha = 0.05\n",
    "df = 4\n",
    "critical_value = stats.chi2.ppf(1 - alpha, df)\n",
    "print(f\"Critical Value: {critical_value}\")\n"
   ]
  },
  {
   "cell_type": "markdown",
   "id": "cffb227a-0136-46d7-a49b-eac239ea0fb3",
   "metadata": {},
   "source": [
    "## Making The Decision"
   ]
  },
  {
   "cell_type": "markdown",
   "id": "bcba082a-a0b3-40c9-9463-18137992eeba",
   "metadata": {},
   "source": [
    "test statistics > critical value \n",
    "we reject null hypothesis\n",
    "hence : there is a significant association between the type of smart home device purchased (Smart Thermostats vs. Smart Lights) and the customer satisfaction level."
   ]
  },
  {
   "cell_type": "markdown",
   "id": "825df0ea-5624-476f-b937-3df3bc902548",
   "metadata": {},
   "source": [
    "## Hypothesis testing"
   ]
  },
  {
   "cell_type": "markdown",
   "id": "d0941414-8340-43a7-870a-a92f3bde1ea1",
   "metadata": {},
   "source": [
    "Hypotheses Statement\n",
    "\n",
    "Null Hypothesis (H₀): The mean weekly operating cost follows the theoretical model, i.e., the mean weekly cost is Rs. 4,000 (since ( W = 1000 + 5 \\times 600 = 4000 )). H0​:μ=4000\n",
    "\n",
    "Alternative Hypothesis (H₁): The mean weekly operating cost is higher than the theoretical model, i.e., the mean weekly cost is greater than Rs. 4,000. H1​:μ>4000"
   ]
  },
  {
   "cell_type": "markdown",
   "id": "1f077fc3-c336-4925-866c-c9ccf24eac27",
   "metadata": {},
   "source": [
    "## Test Statistics"
   ]
  },
  {
   "cell_type": "markdown",
   "id": "bad17eed-2e5a-425f-b5ac-0e0b46b87ebb",
   "metadata": {},
   "source": [
    "To calculate the test statistic (t) for the given data, we can use the following formula:\n",
    "t=(x̅ – μ0) / (σ /√n)\n",
    "where:\n",
    "\n",
    "( \\bar{x} ) is the sample mean weekly cost (Rs. 3,050)\n",
    "( \\mu ) is the theoretical mean weekly cost (Rs. 4,000)\n",
    "( \\sigma ) is the standard deviation (5 * 25 units)\n",
    "( n ) is the sample size (25 restaurants)\n",
    "\n",
    "Given Data\n",
    "\n",
    "Sample mean (( \\bar{x} )) = Rs. 3,050\n",
    "Theoretical mean (( \\mu )) = Rs. 4,000\n",
    "Standard deviation (( \\sigma )) = 5 * 25 = 125\n",
    "Sample size (( n )) = 25\n",
    "\n",
    "Calculation\n",
    "\n",
    "\n",
    "Calculate the standard error (SE):\n",
    "SE= (σ /√n)​=25​125​=5125​=25\n",
    "\n",
    "\n",
    "Calculate the t-score:\n",
    "t=253050−4000​=25−950​=−38"
   ]
  },
  {
   "cell_type": "markdown",
   "id": "924272c2-8cab-401e-a6e4-fbe3edb3fa3b",
   "metadata": {},
   "source": [
    "## Critical Value"
   ]
  },
  {
   "cell_type": "code",
   "execution_count": 32,
   "id": "190b5ad2-121e-4663-8d4d-1fb6f5ae1769",
   "metadata": {},
   "outputs": [
    {
     "name": "stdout",
     "output_type": "stream",
     "text": [
      "Critical Value (one-tailed): 1.6448536269514722\n",
      "Critical Value (two-tailed): ±1.959963984540054\n"
     ]
    }
   ],
   "source": [
    "import scipy.stats as stats\n",
    "\n",
    "# For a one-tailed test\n",
    "alpha = 0.05\n",
    "critical_value = stats.norm.ppf(1 - alpha)\n",
    "print(f\"Critical Value (one-tailed): {critical_value}\")\n",
    "\n",
    "# For a two-tailed test\n",
    "critical_value_two_tailed = stats.norm.ppf(1 - alpha / 2)\n",
    "print(f\"Critical Value (two-tailed): ±{critical_value_two_tailed}\")\n"
   ]
  },
  {
   "cell_type": "markdown",
   "id": "dfd369ab-a623-4ee4-aac7-fdd6a00e0f2e",
   "metadata": {},
   "source": [
    "## DECISION"
   ]
  },
  {
   "cell_type": "markdown",
   "id": "18abd33c-c07a-4de3-a537-a99d127c08d1",
   "metadata": {},
   "source": [
    "Critical Value (one-tailed): 1.66 Test Statistic (t-score): -38 Comparison Since the test statistic (-38) is much less than the critical value (1.66), it falls in the rejection region of the null hypothesis.\n",
    "\n",
    "Decision Reject the Null Hypothesis (H₀): The evidence strongly suggests that the mean weekly operating cost is significantly different from the theoretical mean of Rs. 4,000. Specifically, the observed costs are much lower than expected."
   ]
  },
  {
   "cell_type": "markdown",
   "id": "1d3d5cbc-aac2-45e8-8ef5-2cb1d9b56bbf",
   "metadata": {},
   "source": [
    "## Conclusion"
   ]
  },
  {
   "cell_type": "markdown",
   "id": "542cd027-4156-411c-8abb-029e4d77c659",
   "metadata": {},
   "source": [
    "The data suggests that the restaurant owners' assertion about rising weekly operating costs is not substantiated. On the contrary, it seems the actual expenses are less than what the theoretical model forecasts."
   ]
  },
  {
   "cell_type": "code",
   "execution_count": null,
   "id": "e9047c54-9dbb-4125-be1a-277be1a06c81",
   "metadata": {},
   "outputs": [],
   "source": []
  }
 ],
 "metadata": {
  "kernelspec": {
   "display_name": "Python 3 (ipykernel)",
   "language": "python",
   "name": "python3"
  },
  "language_info": {
   "codemirror_mode": {
    "name": "ipython",
    "version": 3
   },
   "file_extension": ".py",
   "mimetype": "text/x-python",
   "name": "python",
   "nbconvert_exporter": "python",
   "pygments_lexer": "ipython3",
   "version": "3.12.4"
  }
 },
 "nbformat": 4,
 "nbformat_minor": 5
}
