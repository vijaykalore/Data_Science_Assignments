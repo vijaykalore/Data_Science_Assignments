{
 "cells": [
  {
   "cell_type": "markdown",
   "id": "4cd1b899-a413-43cd-8a36-9631f179fe62",
   "metadata": {},
   "source": [
    "a.Build 99% Confidence Interval Using Sample Standard Deviation"
   ]
  },
  {
   "cell_type": "code",
   "execution_count": null,
   "id": "b9e68934-ed01-4115-85e8-255f93eab856",
   "metadata": {},
   "outputs": [],
   "source": [
    "from scipy import stats\n",
    "import numpy as np\n",
    "impoet pandas as pd"
   ]
  },
  {
   "cell_type": "code",
   "execution_count": 4,
   "id": "6cfbc777-9ded-413e-98d9-89c034c6eb18",
   "metadata": {},
   "outputs": [],
   "source": [
    "data = [1.13, 1.55, 1.43, 0.92, 1.25, 1.36, 1.32, 0.85, 1.07, 1.48, 1.20, 1.33, 1.18, 1.22, 1.29]"
   ]
  },
  {
   "cell_type": "code",
   "execution_count": 6,
   "id": "0cec96f7-c7ca-45e3-b663-cb160ba65d04",
   "metadata": {},
   "outputs": [],
   "source": [
    "# mean of the data\n",
    "sample_mean = np.mean(data)"
   ]
  },
  {
   "cell_type": "code",
   "execution_count": 8,
   "id": "47240d36-f9b7-4b95-bbe6-c2eb4c353b85",
   "metadata": {},
   "outputs": [],
   "source": [
    "# sample standard deviation ,ddof= degrees of freedom\n",
    "sample_std=np.std(data,ddof=1)"
   ]
  },
  {
   "cell_type": "code",
   "execution_count": 10,
   "id": "17abcfff-baec-482a-a0c7-fdc96bea4b71",
   "metadata": {},
   "outputs": [],
   "source": [
    "# standard error\n",
    "sample_size=len(data)\n",
    "standard_error=sample_std/np.sqrt(sample_size)"
   ]
  },
  {
   "cell_type": "code",
   "execution_count": 12,
   "id": "b91d5162-4303-4b65-9ef7-e0eb053e428b",
   "metadata": {},
   "outputs": [],
   "source": [
    "# t-score for 99% confidence \n",
    "t_score = stats.t.ppf(0.995,df=sample_size-1)"
   ]
  },
  {
   "cell_type": "code",
   "execution_count": 16,
   "id": "438a367a-7f3f-4609-afce-cc6395f725a1",
   "metadata": {},
   "outputs": [],
   "source": [
    "confidence_interval = (sample_mean - t_score * standard_error, sample_mean + t_score * standard_error)"
   ]
  },
  {
   "cell_type": "code",
   "execution_count": 18,
   "id": "8a2422cc-6902-45d7-a7b7-c7a8ace9c38b",
   "metadata": {},
   "outputs": [
    {
     "name": "stdout",
     "output_type": "stream",
     "text": [
      "99% Confidence Interval of sample data: (1.0901973384384906, 1.3871359948948425)\n"
     ]
    }
   ],
   "source": [
    "print(\"99% Confidence Interval of sample data:\", confidence_interval)"
   ]
  },
  {
   "cell_type": "markdown",
   "id": "2647c1db-c0cb-403b-a493-accba73b096f",
   "metadata": {},
   "source": [
    "## Explaination"
   ]
  },
  {
   "cell_type": "markdown",
   "id": "33deaab4-446c-46e9-b41d-9625b3e8d016",
   "metadata": {},
   "source": [
    "Why use the t-distribution?: The t-distribution is used instead of the normal distribution because the sample size is small (( n < 30 )) and the population standard deviation is unknown. The t-distribution accounts for the additional variability introduced by estimating the population standard deviation from the sample es."
   ]
  },
  {
   "cell_type": "markdown",
   "id": "abd0190a-961d-4591-9734-4f9c09e6e071",
   "metadata": {},
   "source": [
    "Confidence Interval Formula: The confidence interval is constructed using the sample mean, the t-score for the desired confidence level, and the standard error. This interval provides a range within which we can be 99% confident that the true population mean lie"
   ]
  },
  {
   "cell_type": "markdown",
   "id": "ebd7f516-38b6-44d2-9452-e8288d3a8ccf",
   "metadata": {},
   "source": [
    "\n",
    "b. Build 99% Confidence Interval Using Known Population Standard Deviation"
   ]
  },
  {
   "cell_type": "code",
   "execution_count": 25,
   "id": "60e0e529-328f-4e30-bccb-c85a427b49c5",
   "metadata": {},
   "outputs": [],
   "source": [
    "data = [1.13, 1.55, 1.43, 0.92, 1.25, 1.36, 1.32, 0.85, 1.07, 1.48, 1.20, 1.33, 1.18, 1.22, 1.29]"
   ]
  },
  {
   "cell_type": "code",
   "execution_count": 27,
   "id": "59677431-e923-4528-bbcf-5157027e4aa1",
   "metadata": {},
   "outputs": [],
   "source": [
    "# mean of data\n",
    "sample_mean = np.mean(data)"
   ]
  },
  {
   "cell_type": "code",
   "execution_count": 31,
   "id": "a1ee91d8-8170-4919-9d26-027ae7d3fe2e",
   "metadata": {},
   "outputs": [],
   "source": [
    "#  standard deviation of Known population\n",
    "population_std_dev = 0.2"
   ]
  },
  {
   "cell_type": "code",
   "execution_count": 33,
   "id": "a685a837-54c5-47b0-a11f-436792cd9073",
   "metadata": {},
   "outputs": [],
   "source": [
    "#Calculate the standard error\n",
    "sample_size = len(data)\n",
    "standard_error = population_std_dev / np.sqrt(sample_size)"
   ]
  },
  {
   "cell_type": "code",
   "execution_count": 35,
   "id": "0ff9f7af-d048-41d3-b751-2e32a0e6ecc8",
   "metadata": {},
   "outputs": [],
   "source": [
    "# Find the z-score for a 99% confidence level\n",
    "z_score = 2.576"
   ]
  },
  {
   "cell_type": "code",
   "execution_count": 37,
   "id": "94fcf0ad-0a6d-4593-af9b-1c277c8e2ff9",
   "metadata": {},
   "outputs": [],
   "source": [
    "# finding confidence interval\n",
    "confidence_interval = (sample_mean - z_score * standard_error, sample_mean + z_score * standard_error)"
   ]
  },
  {
   "cell_type": "code",
   "execution_count": 41,
   "id": "6b9ad62c-4775-49f7-967d-b49d22921a5e",
   "metadata": {},
   "outputs": [
    {
     "name": "stdout",
     "output_type": "stream",
     "text": [
      "99% Confidence Interval of population: (1.105642598668929, 1.371690734664404)\n"
     ]
    }
   ],
   "source": [
    "print(\"99% Confidence Interval of population:\", confidence_interval)"
   ]
  },
  {
   "cell_type": "markdown",
   "id": "a27f57f9-3466-41f6-a2c8-ad9b928c862a",
   "metadata": {},
   "source": [
    "## Explanation"
   ]
  },
  {
   "cell_type": "markdown",
   "id": "b6bd0489-7be9-449f-9627-87ef338cdf2e",
   "metadata": {},
   "source": [
    "We use the z-distribution when dealing with situations where the population variance is known and the sample size is large (typically n>30). The z-distribution is a special case of the normal distribution with a mean of 0 and a standard deviation of 1. "
   ]
  },
  {
   "cell_type": "markdown",
   "id": "6347f218-294d-4d32-a13a-5c254bfc405a",
   "metadata": {},
   "source": [
    "Confidence Interval Formula: The confidence interval is constructed using the sample mean, the z-score for the desired confidence level, and the standard error. This interval provides a range within which we can be 99% confident that the true population mean lies.\n",
    "\n"
   ]
  }
 ],
 "metadata": {
  "kernelspec": {
   "display_name": "Python 3 (ipykernel)",
   "language": "python",
   "name": "python3"
  },
  "language_info": {
   "codemirror_mode": {
    "name": "ipython",
    "version": 3
   },
   "file_extension": ".py",
   "mimetype": "text/x-python",
   "name": "python",
   "nbconvert_exporter": "python",
   "pygments_lexer": "ipython3",
   "version": "3.12.4"
  }
 },
 "nbformat": 4,
 "nbformat_minor": 5
}
