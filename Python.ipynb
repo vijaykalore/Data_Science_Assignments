{
 "cells": [
  {
   "cell_type": "markdown",
   "id": "063bd5a0-dd55-4940-a7bd-a0bfc82c61e3",
   "metadata": {},
   "source": [
    "## 1. Program for Prime Numbers "
   ]
  },
  {
   "cell_type": "code",
   "execution_count": 2,
   "id": "c9af8fa4-3c4f-4b48-aaee-8d87142c9102",
   "metadata": {},
   "outputs": [
    {
     "name": "stdout",
     "output_type": "stream",
     "text": [
      "23 is a prime number\n"
     ]
    }
   ],
   "source": [
    "def is_prime(n):\n",
    "    if n <= 1:\n",
    "        return False\n",
    "    for i in range(2, int(n ** 0.5) + 1):\n",
    "        if n % i == 0:\n",
    "            return False\n",
    "    return True\n",
    "\n",
    "# Example usage:\n",
    "num = 23\n",
    "if is_prime(num):\n",
    "    print(f\"{num} is a prime number\")\n",
    "else:\n",
    "    print(f\"{num} is not a prime number\")"
   ]
  },
  {
   "cell_type": "markdown",
   "id": "a2c95efd-1af9-43fd-bb0e-420f3c413d26",
   "metadata": {},
   "source": [
    "## 2. Product of Random Numbers"
   ]
  },
  {
   "cell_type": "code",
   "execution_count": 5,
   "id": "6ea11c67-87bc-485a-953f-a96ff7a4e7c4",
   "metadata": {},
   "outputs": [
    {
     "name": "stdout",
     "output_type": "stream",
     "text": [
      "Think of the product of 84 and 5.\n",
      "Enter your answer:\n"
     ]
    },
    {
     "name": "stdin",
     "output_type": "stream",
     "text": [
      " 5\n"
     ]
    },
    {
     "name": "stdout",
     "output_type": "stream",
     "text": [
      "Sorry, your answer (5) is incorrect. The correct product is 420.\n"
     ]
    }
   ],
   "source": [
    "import random\n",
    "\n",
    "# Generate two random numbers\n",
    "num1 = random.randint(1, 100)  # range: 1 to 100\n",
    "num2 = random.randint(1, 100)\n",
    "\n",
    "# Calculate the product of the two numbers\n",
    "product = num1 * num2\n",
    "\n",
    "print(f\"Think of the product of {num1} and {num2}.\")\n",
    "print(\"Enter your answer:\")\n",
    "\n",
    "# Get user input\n",
    "user_answer = int(input())\n",
    "\n",
    "# Check if the user's answer is correct\n",
    "if user_answer == product:\n",
    "    print(\" Congratulations! Your answer is correct.\")\n",
    "else:\n",
    "    print(f\"Sorry, your answer ({user_answer}) is incorrect. The correct product is {product}.\")"
   ]
  },
  {
   "cell_type": "markdown",
   "id": "0334d29e-3528-4207-8024-c2291bbbf3e0",
   "metadata": {},
   "source": [
    "## 3. Squares of Even/Odd Numbers"
   ]
  },
  {
   "cell_type": "code",
   "execution_count": 8,
   "id": "61ba45d8-57ef-4921-b02e-9ba8fcf0aa54",
   "metadata": {},
   "outputs": [
    {
     "name": "stdout",
     "output_type": "stream",
     "text": [
      "Even number: 100, Square: 10000\n",
      "Even number: 102, Square: 10404\n",
      "Even number: 104, Square: 10816\n",
      "Even number: 106, Square: 11236\n",
      "Even number: 108, Square: 11664\n",
      "Even number: 110, Square: 12100\n",
      "Even number: 112, Square: 12544\n",
      "Even number: 114, Square: 12996\n",
      "Even number: 116, Square: 13456\n",
      "Even number: 118, Square: 13924\n",
      "Even number: 120, Square: 14400\n",
      "Even number: 122, Square: 14884\n",
      "Even number: 124, Square: 15376\n",
      "Even number: 126, Square: 15876\n",
      "Even number: 128, Square: 16384\n",
      "Even number: 130, Square: 16900\n",
      "Even number: 132, Square: 17424\n",
      "Even number: 134, Square: 17956\n",
      "Even number: 136, Square: 18496\n",
      "Even number: 138, Square: 19044\n",
      "Even number: 140, Square: 19600\n",
      "Even number: 142, Square: 20164\n",
      "Even number: 144, Square: 20736\n",
      "Even number: 146, Square: 21316\n",
      "Even number: 148, Square: 21904\n",
      "Even number: 150, Square: 22500\n",
      "Even number: 152, Square: 23104\n",
      "Even number: 154, Square: 23716\n",
      "Even number: 156, Square: 24336\n",
      "Even number: 158, Square: 24964\n",
      "Even number: 160, Square: 25600\n",
      "Even number: 162, Square: 26244\n",
      "Even number: 164, Square: 26896\n",
      "Even number: 166, Square: 27556\n",
      "Even number: 168, Square: 28224\n",
      "Even number: 170, Square: 28900\n",
      "Even number: 172, Square: 29584\n",
      "Even number: 174, Square: 30276\n",
      "Even number: 176, Square: 30976\n",
      "Even number: 178, Square: 31684\n",
      "Even number: 180, Square: 32400\n",
      "Even number: 182, Square: 33124\n",
      "Even number: 184, Square: 33856\n",
      "Even number: 186, Square: 34596\n",
      "Even number: 188, Square: 35344\n",
      "Even number: 190, Square: 36100\n",
      "Even number: 192, Square: 36864\n",
      "Even number: 194, Square: 37636\n",
      "Even number: 196, Square: 38416\n",
      "Even number: 198, Square: 39204\n",
      "Even number: 200, Square: 40000\n"
     ]
    }
   ],
   "source": [
    "# Define the range\n",
    "start = 100\n",
    "end = 200\n",
    "\n",
    "# Iterate over the range\n",
    "for num in range(start, end + 1):\n",
    "    # Check if the number is even\n",
    "    if num % 2 == 0:\n",
    "        # Calculate the square of the even number\n",
    "        square = num ** 2\n",
    "        print(f\"Even number: {num}, Square: {square}\")"
   ]
  },
  {
   "cell_type": "markdown",
   "id": "01026e5d-55ef-4c72-9d81-411834e95390",
   "metadata": {},
   "source": [
    "## 4. Word counter"
   ]
  },
  {
   "cell_type": "code",
   "execution_count": 11,
   "id": "fa63564e-fb59-4509-9847-febd6b2be725",
   "metadata": {},
   "outputs": [
    {
     "name": "stdout",
     "output_type": "stream",
     "text": [
      "The text has 8 words.\n"
     ]
    }
   ],
   "source": [
    "def count_words(text):\n",
    "    words = text.split()  # split the text into words\n",
    "    return len(words)  # return the count of words\n",
    "\n",
    "# Example usage:\n",
    "text = \"This is an example sentence with multiple words.\"\n",
    "word_count = count_words(text)\n",
    "print(f\"The text has {word_count} words.\")"
   ]
  },
  {
   "cell_type": "markdown",
   "id": "6c0a3690-a610-44dd-a7a3-7447b6b5309a",
   "metadata": {},
   "source": [
    "## 5. Check for Palindrome"
   ]
  },
  {
   "cell_type": "code",
   "execution_count": 20,
   "id": "49d6bd36-b39e-497a-93e7-267de619a24b",
   "metadata": {},
   "outputs": [
    {
     "name": "stdout",
     "output_type": "stream",
     "text": [
      "True\n",
      "False\n"
     ]
    }
   ],
   "source": [
    "import re\n",
    "\n",
    "def is_palindrome(s):\n",
    "    # Remove non-alphanumeric characters and convert to lowercase\n",
    "    cleaned_str = re.sub(r'[^A-Za-z0-9]', '', s).lower()\n",
    "    # Compare the cleaned string with its reverse\n",
    "    return cleaned_str == cleaned_str[::-1]\n",
    "\n",
    "# Example usage:\n",
    "print(is_palindrome(\"madam\"))  # Should return True\n",
    "print(is_palindrome(\"Hello, world!\"))  # Should return False\n"
   ]
  },
  {
   "cell_type": "code",
   "execution_count": null,
   "id": "c0400e3a-fc74-4129-ae33-9c905ab99beb",
   "metadata": {},
   "outputs": [],
   "source": []
  }
 ],
 "metadata": {
  "kernelspec": {
   "display_name": "Python 3 (ipykernel)",
   "language": "python",
   "name": "python3"
  },
  "language_info": {
   "codemirror_mode": {
    "name": "ipython",
    "version": 3
   },
   "file_extension": ".py",
   "mimetype": "text/x-python",
   "name": "python",
   "nbconvert_exporter": "python",
   "pygments_lexer": "ipython3",
   "version": "3.12.4"
  }
 },
 "nbformat": 4,
 "nbformat_minor": 5
}
